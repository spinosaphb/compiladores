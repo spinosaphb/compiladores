{
 "cells": [
  {
   "cell_type": "markdown",
   "metadata": {},
   "source": [
    "### Teste etapa 1"
   ]
  },
  {
   "cell_type": "code",
   "execution_count": 2,
   "metadata": {},
   "outputs": [],
   "source": [
    "from tree import Tree\n",
    "from utils import inputs"
   ]
  },
  {
   "cell_type": "code",
   "execution_count": 3,
   "metadata": {},
   "outputs": [
    {
     "name": "stdout",
     "output_type": "stream",
     "text": [
      "Arvore 1 :\n",
      "┌───\n",
      "MEM\n",
      "│   ┌───CONST 2\n",
      "└───+\n",
      "    └───CONST 1\n",
      "\n",
      "Arvore 2 :\n",
      "┌───\n",
      "MOVE\n",
      "│       ┌───\n",
      "│   ┌───MEM\n",
      "│   │   │       ┌───\n",
      "│   │   │   ┌───MEM\n",
      "│   │   │   │   │   ┌───CONST a\n",
      "│   │   │   │   └───+\n",
      "│   │   │   │       └───FP\n",
      "│   │   └───+\n",
      "│   │       │   ┌───CONST 4\n",
      "│   │       └───*\n",
      "│   │           └───TEMP i\n",
      "└───MEM\n",
      "    │   ┌───CONST x\n",
      "    └───+\n",
      "        └───FP\n",
      "\n"
     ]
    }
   ],
   "source": [
    "expression_trees = map(Tree.from_expression, inputs)\n",
    "\n",
    "for idx, tree in enumerate(expression_trees):\n",
    "    print(f'Arvore {idx+1} :')\n",
    "    tree.bshow()\n",
    "    print()"
   ]
  },
  {
   "cell_type": "markdown",
   "metadata": {},
   "source": [
    "### Fase de seleção de instrução"
   ]
  },
  {
   "cell_type": "code",
   "execution_count": null,
   "metadata": {},
   "outputs": [],
   "source": [
    "\n",
    "\n",
    "JOUETTE_ARCHITECTURE = {\n",
    "    **{\n",
    "        ins: {\n",
    "            'patterns': [Tree(op)],\n",
    "            'instruction': f'ri <- rj {op} rk'\n",
    "        }  \n",
    "        for ins, op in [('ADD', '+'), ('MUL', '*'), ('SUB', '-'), ('DIV', '/')]\n",
    "    },\n",
    "    'ADDI': {\n",
    "        'patterns': [\n",
    "            Tree('+', right='CONST'),\n",
    "            Tree('+', left='CONST'),\n",
    "            Tree('CONST')\n",
    "        ],\n",
    "        'instruction': 'ri <- rj + c' \n",
    "    }\n",
    "\n",
    "}"
   ]
  }
 ],
 "metadata": {
  "kernelspec": {
   "display_name": "Python 3.10.4 64-bit",
   "language": "python",
   "name": "python3"
  },
  "language_info": {
   "codemirror_mode": {
    "name": "ipython",
    "version": 3
   },
   "file_extension": ".py",
   "mimetype": "text/x-python",
   "name": "python",
   "nbconvert_exporter": "python",
   "pygments_lexer": "ipython3",
   "version": "3.10.4"
  },
  "orig_nbformat": 4,
  "vscode": {
   "interpreter": {
    "hash": "e7370f93d1d0cde622a1f8e1c04877d8463912d04d973331ad4851f04de6915a"
   }
  }
 },
 "nbformat": 4,
 "nbformat_minor": 2
}
