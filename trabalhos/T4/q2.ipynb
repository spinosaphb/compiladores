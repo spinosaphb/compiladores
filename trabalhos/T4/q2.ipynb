{
 "cells": [
  {
   "cell_type": "markdown",
   "metadata": {},
   "source": [
    "### Teste etapa 1"
   ]
  },
  {
   "cell_type": "code",
   "execution_count": 1,
   "metadata": {},
   "outputs": [],
   "source": [
    "from tree import Tree\n",
    "from utils import inputs"
   ]
  },
  {
   "cell_type": "code",
   "execution_count": 2,
   "metadata": {},
   "outputs": [
    {
     "name": "stdout",
     "output_type": "stream",
     "text": [
      "Arvore 1 :\n",
      "┌───\n",
      "|MEM|None|\n",
      "│   ┌───|CONST 2|+|\n",
      "└───|+|MEM|\n",
      "    └───|CONST 1|+|\n",
      "\n",
      "Arvore 2 :\n",
      "    ┌───\n",
      "┌───|MEM|MOVE|\n",
      "│   │   ┌───|CONST x|+|\n",
      "│   └───|+|MEM|\n",
      "│       └───|FP|+|\n",
      "|MOVE|None|\n",
      "│   ┌───\n",
      "└───|MEM|MOVE|\n",
      "    │       ┌───|CONST 4|*|\n",
      "    │   ┌───|*|+|\n",
      "    │   │   └───|TEMP i|*|\n",
      "    └───|+|MEM|\n",
      "        │   ┌───\n",
      "        └───|MEM|+|\n",
      "            │   ┌───|CONST a|+|\n",
      "            └───|+|MEM|\n",
      "                └───|FP|+|\n",
      "\n"
     ]
    }
   ],
   "source": [
    "expression_trees = map(Tree.from_expression, inputs)\n",
    "\n",
    "for idx, tree in enumerate(expression_trees):\n",
    "    print(f'Arvore {idx+1} :')\n",
    "    tree.bshow()\n",
    "    print()"
   ]
  },
  {
   "cell_type": "markdown",
   "metadata": {},
   "source": [
    "### Fase de seleção de instrução"
   ]
  },
  {
   "cell_type": "code",
   "execution_count": 3,
   "metadata": {},
   "outputs": [],
   "source": [
    "jouette_architecture = {\n",
    "    **{\n",
    "        ins: {\n",
    "            'patterns': [Tree(op)],\n",
    "            'instruction': f'ri <- rj {op} rk'\n",
    "        }  \n",
    "        for ins, op in [('ADD', '+'), ('MUL', '*'), ('SUB', '-'), ('DIV', '/')]\n",
    "    },\n",
    "    'ADDI': {\n",
    "        'patterns': [\n",
    "            Tree('+', right='CONST'),\n",
    "            Tree('+', left='CONST'),\n",
    "            Tree('CONST')\n",
    "        ],\n",
    "        'instruction': 'ri <- rj + c' \n",
    "    },\n",
    "    'SUBI': {\n",
    "        'patterns': [\n",
    "            Tree('-', right='CONST')\n",
    "        ],\n",
    "        'instruction': 'ri <- rj - c'\n",
    "    },\n",
    "    'LOAD': {\n",
    "        'patterns': [\n",
    "            Tree('MEM', left=Tree('+', right='CONST')),\n",
    "            Tree('MEM', left=Tree('+', left='CONST')),\n",
    "            Tree('MEM', left='CONST'),\n",
    "            Tree('MEM')\n",
    "        ],\n",
    "        'instruction': 'ri <- M[ rj + c ]'\n",
    "    },\n",
    "    'STORE': {\n",
    "        'patterns': [\n",
    "            Tree('MOVE', left=Tree('MEM', left=Tree('+', right='CONST'))),\n",
    "            Tree('MOVE', left=Tree('MEM', left=Tree('+', left='CONST'))),\n",
    "            Tree('MOVE', left=Tree('MEM', left='CONST')),\n",
    "            Tree('MOVE', left='MEM')\n",
    "        ],\n",
    "        'instruction': 'M[ rj + c ] <- ri'\n",
    "    },\n",
    "    'MOVEM': {\n",
    "        'patterns': [\n",
    "            Tree('MOVE', left='MEM', right='MEM')\n",
    "        ],\n",
    "        'instruction': 'M[ rj ] <- M[ ri ]'\n",
    "    } \n",
    "}"
   ]
  },
  {
   "cell_type": "code",
   "execution_count": 4,
   "metadata": {},
   "outputs": [
    {
     "name": "stdout",
     "output_type": "stream",
     "text": [
      "ADD\n",
      "---\n",
      "|+|None|\n",
      "instruction: ri <- rj + rk\n",
      "---\n",
      "---\n",
      "\n",
      "MUL\n",
      "---\n",
      "|*|None|\n",
      "instruction: ri <- rj * rk\n",
      "---\n",
      "---\n",
      "\n",
      "SUB\n",
      "---\n",
      "|-|None|\n",
      "instruction: ri <- rj - rk\n",
      "---\n",
      "---\n",
      "\n",
      "DIV\n",
      "---\n",
      "|/|None|\n",
      "instruction: ri <- rj / rk\n",
      "---\n",
      "---\n",
      "\n",
      "ADDI\n",
      "----\n",
      "┌───|CONST|+|\n",
      "|+|None|\n",
      "└───\n",
      "┌───\n",
      "|+|None|\n",
      "└───|CONST|+|\n",
      "|CONST|None|\n",
      "instruction: ri <- rj + c\n",
      "----\n",
      "----\n",
      "\n",
      "SUBI\n",
      "----\n",
      "┌───|CONST|-|\n",
      "|-|None|\n",
      "└───\n",
      "instruction: ri <- rj - c\n",
      "----\n",
      "----\n",
      "\n",
      "LOAD\n",
      "----\n",
      "┌───\n",
      "|MEM|None|\n",
      "│   ┌───|CONST|+|\n",
      "└───|+|MEM|\n",
      "    └───\n",
      "┌───\n",
      "|MEM|None|\n",
      "│   ┌───\n",
      "└───|+|MEM|\n",
      "    └───|CONST|+|\n",
      "┌───\n",
      "|MEM|None|\n",
      "└───|CONST|MEM|\n",
      "|MEM|None|\n",
      "instruction: ri <- M[ rj + c ]\n",
      "----\n",
      "----\n",
      "\n",
      "STORE\n",
      "-----\n",
      "┌───\n",
      "|MOVE|None|\n",
      "│   ┌───\n",
      "└───|MEM|MOVE|\n",
      "    │   ┌───|CONST|+|\n",
      "    └───|+|MEM|\n",
      "        └───\n",
      "┌───\n",
      "|MOVE|None|\n",
      "│   ┌───\n",
      "└───|MEM|MOVE|\n",
      "    │   ┌───\n",
      "    └───|+|MEM|\n",
      "        └───|CONST|+|\n",
      "┌───\n",
      "|MOVE|None|\n",
      "│   ┌───\n",
      "└───|MEM|MOVE|\n",
      "    └───|CONST|MEM|\n",
      "┌───\n",
      "|MOVE|None|\n",
      "└───|MEM|MOVE|\n",
      "instruction: M[ rj + c ] <- ri\n",
      "-----\n",
      "-----\n",
      "\n",
      "MOVEM\n",
      "-----\n",
      "┌───|MEM|MOVE|\n",
      "|MOVE|None|\n",
      "└───|MEM|MOVE|\n",
      "instruction: M[ rj ] <- M[ ri ]\n",
      "-----\n",
      "-----\n",
      "\n"
     ]
    }
   ],
   "source": [
    "for key, value in jouette_architecture.items():\n",
    "    print(key)\n",
    "    print('-'*len(key))\n",
    "    for pattern in value['patterns']:\n",
    "        pattern.bshow()\n",
    "    print(f\"instruction: {value['instruction']}\")\n",
    "    print('-'*len(key))\n",
    "    print('-'*len(key))\n",
    "    print()\n"
   ]
  },
  {
   "cell_type": "code",
   "execution_count": 5,
   "metadata": {},
   "outputs": [
    {
     "data": {
      "text/plain": [
       "dict_keys(['ADD', 'MUL', 'SUB', 'DIV', 'ADDI', 'SUBI', 'LOAD', 'STORE', 'MOVEM'])"
      ]
     },
     "execution_count": 5,
     "metadata": {},
     "output_type": "execute_result"
    }
   ],
   "source": [
    "jouette_architecture.keys()"
   ]
  },
  {
   "cell_type": "code",
   "execution_count": 6,
   "metadata": {},
   "outputs": [],
   "source": [
    "costs = [\n",
    "    {\n",
    "        'instruction': 'TEMP',\n",
    "        'cost': 0\n",
    "    },\n",
    "    {\n",
    "        'instruction': 'MOVEM',\n",
    "        'cost': 2\n",
    "    }\n",
    "]\n",
    "other_costs = map(\n",
    "    lambda ins: {'instruction': ins, 'cost':1},\n",
    "    (set(jouette_architecture.keys()) - {'TEMP', 'MOVEM'})\n",
    ")\n",
    "costs = [*costs, *other_costs]"
   ]
  },
  {
   "cell_type": "code",
   "execution_count": 7,
   "metadata": {},
   "outputs": [
    {
     "data": {
      "text/plain": [
       "[{'instruction': 'TEMP', 'cost': 0},\n",
       " {'instruction': 'MOVEM', 'cost': 2},\n",
       " {'instruction': 'ADDI', 'cost': 1},\n",
       " {'instruction': 'ADD', 'cost': 1},\n",
       " {'instruction': 'SUB', 'cost': 1},\n",
       " {'instruction': 'MUL', 'cost': 1},\n",
       " {'instruction': 'LOAD', 'cost': 1},\n",
       " {'instruction': 'DIV', 'cost': 1},\n",
       " {'instruction': 'SUBI', 'cost': 1},\n",
       " {'instruction': 'STORE', 'cost': 1}]"
      ]
     },
     "execution_count": 7,
     "metadata": {},
     "output_type": "execute_result"
    }
   ],
   "source": [
    "costs"
   ]
  },
  {
   "cell_type": "code",
   "execution_count": 8,
   "metadata": {},
   "outputs": [
    {
     "data": {
      "text/plain": [
       "'MOVE(MEM(+(MEM(+(FP,CONST a)),*(TEMP i,CONST 4))),MEM(+(FP,CONST x)))'"
      ]
     },
     "execution_count": 8,
     "metadata": {},
     "output_type": "execute_result"
    }
   ],
   "source": [
    "exp = inputs[-1]\n",
    "exp"
   ]
  },
  {
   "cell_type": "code",
   "execution_count": 9,
   "metadata": {},
   "outputs": [
    {
     "name": "stdout",
     "output_type": "stream",
     "text": [
      "    ┌───\n",
      "┌───|MEM|MOVE|\n",
      "│   │   ┌───|CONST x|+|\n",
      "│   └───|+|MEM|\n",
      "│       └───|FP|+|\n",
      "|MOVE|None|\n",
      "│   ┌───\n",
      "└───|MEM|MOVE|\n",
      "    │       ┌───|CONST 4|*|\n",
      "    │   ┌───|*|+|\n",
      "    │   │   └───|TEMP i|*|\n",
      "    └───|+|MEM|\n",
      "        │   ┌───\n",
      "        └───|MEM|+|\n",
      "            │   ┌───|CONST a|+|\n",
      "            └───|+|MEM|\n",
      "                └───|FP|+|\n"
     ]
    }
   ],
   "source": [
    "exp_tree = Tree.from_expression(exp, verbose=True)\n",
    "exp_tree.bshow()"
   ]
  },
  {
   "cell_type": "code",
   "execution_count": 10,
   "metadata": {},
   "outputs": [
    {
     "name": "stdout",
     "output_type": "stream",
     "text": [
      "|FP|+|\n",
      "|CONST a|+|\n",
      "|TEMP i|*|\n",
      "|CONST 4|*|\n",
      "|FP|+|\n",
      "|CONST x|+|\n"
     ]
    }
   ],
   "source": [
    "for leave in exp_tree.leaves():\n",
    "    leave.bshow()"
   ]
  },
  {
   "cell_type": "code",
   "execution_count": 11,
   "metadata": {},
   "outputs": [
    {
     "name": "stdout",
     "output_type": "stream",
     "text": [
      "┌───\n",
      "|MEM|MOVE|\n",
      "│       ┌───|CONST 4|*|\n",
      "│   ┌───|*|+|\n",
      "│   │   └───|TEMP i|*|\n",
      "└───|+|MEM|\n",
      "    │   ┌───\n",
      "    └───|MEM|+|\n",
      "        │   ┌───|CONST a|+|\n",
      "        └───|+|MEM|\n",
      "            └───|FP|+|\n",
      "┌───\n",
      "|MEM|MOVE|\n",
      "│   ┌───|CONST x|+|\n",
      "└───|+|MEM|\n",
      "    └───|FP|+|\n"
     ]
    }
   ],
   "source": [
    "for leave in exp_tree.subtrees():\n",
    "    leave.bshow()"
   ]
  },
  {
   "cell_type": "code",
   "execution_count": 19,
   "metadata": {},
   "outputs": [
    {
     "name": "stdout",
     "output_type": "stream",
     "text": [
      "┌───\n",
      "|MEM|MOVE|\n",
      "│   ┌───|CONST x|+|\n",
      "└───|+|MEM|\n",
      "    └───|FP|+|\n"
     ]
    }
   ],
   "source": [
    "sub_tree = exp_tree.subtrees()[1]\n",
    "sub_tree.bshow()"
   ]
  },
  {
   "cell_type": "code",
   "execution_count": 23,
   "metadata": {},
   "outputs": [
    {
     "data": {
      "text/plain": [
       "1"
      ]
     },
     "execution_count": 23,
     "metadata": {},
     "output_type": "execute_result"
    }
   ],
   "source": [
    "len(sub_tree.left.left)"
   ]
  },
  {
   "cell_type": "code",
   "execution_count": 12,
   "metadata": {},
   "outputs": [
    {
     "data": {
      "text/plain": [
       "6"
      ]
     },
     "execution_count": 12,
     "metadata": {},
     "output_type": "execute_result"
    }
   ],
   "source": [
    "len(exp_tree)"
   ]
  },
  {
   "cell_type": "code",
   "execution_count": 24,
   "metadata": {},
   "outputs": [
    {
     "name": "stdout",
     "output_type": "stream",
     "text": [
      "    ┌───\n",
      "┌───|MEM|MOVE|\n",
      "│   │   ┌───|CONST x|+|\n",
      "│   └───|+|MEM|\n",
      "│       └───|FP|+|\n",
      "|MOVE|None|\n",
      "│   ┌───\n",
      "└───|MEM|MOVE|\n",
      "    │       ┌───|CONST 4|*|\n",
      "    │   ┌───|*|+|\n",
      "    │   │   └───|TEMP i|*|\n",
      "    └───|+|MEM|\n",
      "        │   ┌───\n",
      "        └───|MEM|+|\n",
      "            │   ┌───|CONST a|+|\n",
      "            └───|+|MEM|\n",
      "                └───|FP|+|\n"
     ]
    }
   ],
   "source": [
    "exp_tree.bshow()"
   ]
  },
  {
   "cell_type": "code",
   "execution_count": 27,
   "metadata": {},
   "outputs": [
    {
     "name": "stdout",
     "output_type": "stream",
     "text": [
      "|FP|+|\n",
      "|CONST a|+|\n",
      "|TEMP i|*|\n",
      "|CONST 4|*|\n",
      "|FP|+|\n",
      "|CONST x|+|\n"
     ]
    }
   ],
   "source": [
    "for l in exp_tree.leaves():\n",
    "    l.bshow()"
   ]
  },
  {
   "cell_type": "markdown",
   "metadata": {},
   "source": [
    "### Selector"
   ]
  },
  {
   "cell_type": "code",
   "execution_count": 51,
   "metadata": {},
   "outputs": [],
   "source": [
    "from typing import Iterable\n",
    "class Selector():\n",
    "\n",
    "    PATTERN_INSTRUCTIONS = {\n",
    "        1: \"TEMP r{i}\",\n",
    "        2: \"ADD r{i} <- r{j} + r{k}\",\n",
    "        3: \"MUL r{i} <- r{j} * r{k}\",\n",
    "        4: \"SUB r{i} <- r{j} - r{k}\",\n",
    "        5: \"DIV r{i} <- r{j} / r{k}\",\n",
    "        6: \"ADDI r{i} <- r{j} + {c}\",\n",
    "        7: \"ADDI r{i} <- r{j} + {c}\",\n",
    "        8: \"ADDI r{i} <- r{j} + {c}\",\n",
    "        9: \"SUBI r{i} <- r{j} - {c}\",\n",
    "        10: \"LOAD r{i} <- M[r{j} + {c}]\",\n",
    "        11: \"LOAD r{i} <- M[r{j} + {c}]\",\n",
    "        12: \"LOAD r{i} <- M[r{j} + {c}]\",\n",
    "        13: \"LOAD r{i} <- M[r{j} + {c}]\",\n",
    "        14: \"STORE M[r{j} + {c}] <- r{i}\",\n",
    "        15: \"STORE M[r{j} + {c}] <- r{i}\",\n",
    "        16: \"STORE M[r{j} + {c}] <- r{i}\",\n",
    "        17: \"STORE M[r{j} + {c}] <- r{i}\",\n",
    "        18: \"MOVEM M[r{j}] <- M[r{i}]\",\n",
    "    }\n",
    "\n",
    "    \n",
    "    def __init__(self, tree: Tree) -> None:\n",
    "        self.tree: Tree = tree\n",
    "        self.i = 0\n",
    "        self.leaves = tree.leaves()\n",
    "        self.check_tree(self.leaves)\n",
    "\n",
    "\n",
    "    def check_tree(self, level: Iterable[Tree]):\n",
    "        if level:\n",
    "            for node in level:\n",
    "                print(node.value)\n",
    "            print('---------------')\n",
    "            self.getNewLayer(level)\n",
    "\n",
    "    def getNewLayer(self, level):\n",
    "        new_level = []\n",
    "        for node in level:\n",
    "            if(node._father is not None):\n",
    "                if (node._father not in new_level):\n",
    "                    new_level.append(node._father)\n",
    "\n",
    "        self.check_tree(new_level)"
   ]
  },
  {
   "cell_type": "code",
   "execution_count": 52,
   "metadata": {},
   "outputs": [
    {
     "name": "stdout",
     "output_type": "stream",
     "text": [
      "    ┌───\n",
      "┌───|MEM|MOVE|\n",
      "│   │   ┌───|CONST x|+|\n",
      "│   └───|+|MEM|\n",
      "│       └───|FP|+|\n",
      "|MOVE|None|\n",
      "│   ┌───\n",
      "└───|MEM|MOVE|\n",
      "    │       ┌───|CONST 4|*|\n",
      "    │   ┌───|*|+|\n",
      "    │   │   └───|TEMP i|*|\n",
      "    └───|+|MEM|\n",
      "        │   ┌───\n",
      "        └───|MEM|+|\n",
      "            │   ┌───|CONST a|+|\n",
      "            └───|+|MEM|\n",
      "                └───|FP|+|\n"
     ]
    }
   ],
   "source": [
    "exp_tree.bshow()"
   ]
  },
  {
   "cell_type": "code",
   "execution_count": 53,
   "metadata": {},
   "outputs": [
    {
     "name": "stdout",
     "output_type": "stream",
     "text": [
      "FP\n",
      "CONST a\n",
      "TEMP i\n",
      "CONST 4\n",
      "FP\n",
      "CONST x\n",
      "---------------\n",
      "+\n",
      "*\n",
      "+\n",
      "---------------\n",
      "MEM\n",
      "+\n",
      "MEM\n",
      "---------------\n",
      "+\n",
      "MEM\n",
      "MOVE\n",
      "---------------\n",
      "MEM\n",
      "MOVE\n",
      "---------------\n",
      "MOVE\n",
      "---------------\n"
     ]
    },
    {
     "data": {
      "text/plain": [
       "<__main__.Selector at 0x7fe07d00ada0>"
      ]
     },
     "execution_count": 53,
     "metadata": {},
     "output_type": "execute_result"
    }
   ],
   "source": [
    "Selector(exp_tree)"
   ]
  },
  {
   "cell_type": "code",
   "execution_count": null,
   "metadata": {},
   "outputs": [],
   "source": []
  }
 ],
 "metadata": {
  "kernelspec": {
   "display_name": "Python 3.10.4 64-bit",
   "language": "python",
   "name": "python3"
  },
  "language_info": {
   "codemirror_mode": {
    "name": "ipython",
    "version": 3
   },
   "file_extension": ".py",
   "mimetype": "text/x-python",
   "name": "python",
   "nbconvert_exporter": "python",
   "pygments_lexer": "ipython3",
   "version": "3.10.4"
  },
  "orig_nbformat": 4,
  "vscode": {
   "interpreter": {
    "hash": "e7370f93d1d0cde622a1f8e1c04877d8463912d04d973331ad4851f04de6915a"
   }
  }
 },
 "nbformat": 4,
 "nbformat_minor": 2
}
