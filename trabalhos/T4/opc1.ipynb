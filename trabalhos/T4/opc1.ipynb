{
 "cells": [
  {
   "cell_type": "markdown",
   "metadata": {},
   "source": [
    "### Construindo Arvore"
   ]
  },
  {
   "cell_type": "code",
   "execution_count": 53,
   "metadata": {},
   "outputs": [],
   "source": [
    "class Stack(list):\n",
    "    def push(self, __object):\n",
    "        self.append(__object)\n",
    "\n",
    "    def isempty(self): return not self\n",
    "\n",
    "class Tree:\n",
    "\n",
    "    COUNT = [10]\n",
    "\n",
    "    def __init__(self, value, left: 'Tree' = None, right: 'Tree' = None):\n",
    "        self.value = value\n",
    "        self._left: Tree = self.__totree(left) if left else None \n",
    "        self._right: Tree = self.__totree(right) if right else None\n",
    "        \n",
    "\n",
    "    @staticmethod\n",
    "    def __totree(__object: 'Tree'): return __object if isinstance(__object, Tree) else Tree(__object)\n",
    "\n",
    "\n",
    "    @staticmethod\n",
    "    def _clone_tree(root: 'Tree'):\n",
    "        if root is None:\n",
    "            return None\n",
    "        copy = Tree(root.value)\n",
    "        if root.left:\n",
    "            copy.left = Tree._clone_tree(root.left) \n",
    "        if root.right:\n",
    "            copy.right = Tree._clone_tree(root.right)\n",
    "        return copy\n",
    "\n",
    "\n",
    "    def printtree(self, sep='\\n'):\n",
    "        print(self.value)\n",
    "        if self.left:\n",
    "            self.left.printtree()\n",
    "        if self.right:\n",
    "            self.right.printtree()\n",
    "\n",
    "    @property\n",
    "    def left(self) -> 'Tree': return self._left\n",
    "\n",
    "    @property\n",
    "    def right(self) -> 'Tree': return self._right\n",
    "\n",
    "    @left.setter\n",
    "    def left(self, other: 'Tree'):\n",
    "        self._left = self.__totree(other) \n",
    "\n",
    "    @right.setter\n",
    "    def right(self, other: 'Tree'):\n",
    "        self._right = self.__totree(other)\n",
    "\n",
    "\n",
    "    def bshow(self):\n",
    "        return self._bshow(self, '')\n",
    "\n",
    "    \n",
    "    @staticmethod\n",
    "    def _bshow(node: 'Tree', heritage: str):\n",
    "        if node and (node.left or node.right):\n",
    "            Tree._bshow(node.right, heritage + \"r\")\n",
    "        \n",
    "        i = 0\n",
    "        while i < (len(heritage) - 1):\n",
    "            print(\"│   \" if heritage[i] != heritage[i+1] else \"    \", end='')\n",
    "            i += 1\n",
    "        \n",
    "        if heritage != '':\n",
    "            print(\"┌───\" if heritage[-1] == 'r' else \"└───\", end='')\n",
    "        \n",
    "        if not node:\n",
    "            print()\n",
    "            return\n",
    "\n",
    "        print(node.value)\n",
    "\n",
    "        if node and (node.left or node.right):\n",
    "            Tree._bshow(node.left, heritage + \"l\")"
   ]
  },
  {
   "cell_type": "code",
   "execution_count": 54,
   "metadata": {},
   "outputs": [],
   "source": [
    "root = Tree(2, 3, 5)"
   ]
  },
  {
   "cell_type": "code",
   "execution_count": 55,
   "metadata": {},
   "outputs": [
    {
     "name": "stdout",
     "output_type": "stream",
     "text": [
      "┌───5\n",
      "2\n",
      "└───3\n"
     ]
    }
   ],
   "source": [
    "root.bshow()"
   ]
  },
  {
   "cell_type": "code",
   "execution_count": 56,
   "metadata": {},
   "outputs": [],
   "source": [
    "another = Tree._clone_tree(root)"
   ]
  },
  {
   "cell_type": "code",
   "execution_count": 57,
   "metadata": {},
   "outputs": [
    {
     "name": "stdout",
     "output_type": "stream",
     "text": [
      "┌───5\n",
      "2\n",
      "└───3\n"
     ]
    }
   ],
   "source": [
    "another.bshow()"
   ]
  },
  {
   "cell_type": "markdown",
   "metadata": {},
   "source": [
    "### Algoritmo de construção da arvore"
   ]
  },
  {
   "cell_type": "code",
   "execution_count": 44,
   "metadata": {},
   "outputs": [],
   "source": [
    "#input_ = 'MEM(+(CONST 1,CONST 2))'\n",
    "#input_ = 'MOVE(MEM(+(MEM(+(FP,CONST a)),*(TEMP i,CONST 4))),MEM(+(FP,CONST x)))'\n",
    "# EXP FINAL\n",
    "#------------------------------------------\n",
    "# MOVE(\n",
    "#     MEM(\n",
    "#         +(\n",
    "#             MEM(\n",
    "#                 +(\n",
    "#                     FP,\n",
    "#                     CONST a\n",
    "#                 )\n",
    "#             ),\n",
    "#             *(\n",
    "#                 TEMP i,\n",
    "#                 CONST 4\n",
    "#             )\n",
    "#         )\n",
    "#     ),\n",
    "#     MEM(\n",
    "#         +(\n",
    "#             FP,\n",
    "#             CONST x\n",
    "#         )\n",
    "#     )\n",
    "# )"
   ]
  },
  {
   "cell_type": "code",
   "execution_count": 58,
   "metadata": {},
   "outputs": [],
   "source": [
    "def from_expression(input_: str, verbose=False) -> 'Tree':\n",
    "        main_stack = Stack()\n",
    "        worker_stack = Stack()\n",
    "        op = ''\n",
    "\n",
    "        def unstack():\n",
    "            while not main_stack.isempty():\n",
    "                son = main_stack.pop()\n",
    "                if son == '(':\n",
    "                    father = main_stack.pop()\n",
    "                    left = worker_stack.pop() if worker_stack else None\n",
    "                    right = worker_stack.pop() if worker_stack else None\n",
    "\n",
    "                    worker_stack.push(Tree(value=father, left=left, right=right))\n",
    "                    break\n",
    "                worker_stack.push(son)\n",
    "            \n",
    "            exp = worker_stack.pop()\n",
    "            main_stack.push(exp)\n",
    "            \n",
    "            if verbose: exp.bshow()\n",
    "\n",
    "        for char in input_:    \n",
    "            if char in ['(', ',', ')']:\n",
    "                if op: main_stack.push(op)\n",
    "                if char == '(': main_stack.push(char)\n",
    "                elif char == ')': unstack()\n",
    "                op = '' \n",
    "            else: op += char  \n",
    "        return main_stack.pop()"
   ]
  },
  {
   "cell_type": "code",
   "execution_count": 59,
   "metadata": {},
   "outputs": [],
   "source": [
    "inputs = [\n",
    "    'MEM(+(CONST 1,CONST 2))',\n",
    "    'MOVE(MEM(+(MEM(+(FP,CONST a)),*(TEMP i,CONST 4))),MEM(+(FP,CONST x)))'\n",
    "]"
   ]
  },
  {
   "cell_type": "code",
   "execution_count": 60,
   "metadata": {},
   "outputs": [],
   "source": [
    "expression_trees = map(from_expression, inputs)"
   ]
  },
  {
   "cell_type": "code",
   "execution_count": 61,
   "metadata": {},
   "outputs": [
    {
     "name": "stdout",
     "output_type": "stream",
     "text": [
      "Arvore 1 :\n",
      "┌───\n",
      "MEM\n",
      "│   ┌───CONST 2\n",
      "└───+\n",
      "    └───CONST 1\n",
      "\n",
      "Arvore 2 :\n",
      "    ┌───\n",
      "┌───MEM\n",
      "│   │   ┌───CONST x\n",
      "│   └───+\n",
      "│       └───FP\n",
      "MOVE\n",
      "│   ┌───\n",
      "└───MEM\n",
      "    │       ┌───CONST 4\n",
      "    │   ┌───*\n",
      "    │   │   └───TEMP i\n",
      "    └───+\n",
      "        │   ┌───\n",
      "        └───MEM\n",
      "            │   ┌───CONST a\n",
      "            └───+\n",
      "                └───FP\n",
      "\n"
     ]
    }
   ],
   "source": [
    "for idx, tree in enumerate(expression_trees):\n",
    "    print(f'Arvore {idx+1} :')\n",
    "    tree.bshow()\n",
    "    print()"
   ]
  },
  {
   "cell_type": "markdown",
   "metadata": {},
   "source": [
    "### Fase de seleção de instrução"
   ]
  },
  {
   "cell_type": "code",
   "execution_count": null,
   "metadata": {},
   "outputs": [],
   "source": []
  }
 ],
 "metadata": {
  "kernelspec": {
   "display_name": "Python 3.10.4 64-bit",
   "language": "python",
   "name": "python3"
  },
  "language_info": {
   "codemirror_mode": {
    "name": "ipython",
    "version": 3
   },
   "file_extension": ".py",
   "mimetype": "text/x-python",
   "name": "python",
   "nbconvert_exporter": "python",
   "pygments_lexer": "ipython3",
   "version": "3.10.4"
  },
  "orig_nbformat": 4,
  "vscode": {
   "interpreter": {
    "hash": "e7370f93d1d0cde622a1f8e1c04877d8463912d04d973331ad4851f04de6915a"
   }
  }
 },
 "nbformat": 4,
 "nbformat_minor": 2
}
