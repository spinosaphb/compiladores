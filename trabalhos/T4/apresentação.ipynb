{
 "cells": [
  {
   "cell_type": "markdown",
   "metadata": {},
   "source": [
    "# <center> $\\text{Trabalho IV}$"
   ]
  },
  {
   "cell_type": "markdown",
   "metadata": {},
   "source": [
    "1. (3,0 pontos) Implemente um algoritmo que recebe como entrada um conjunto de instruções no formato linear e o imprime em formato de árvore. Por exemplo, se a entrada for MEM(+(CONST 1,CONST 2)), sua saída deve ser algo parecido com a figura a seguir. Nota: é algo parecido, pode inclusive, usar o próprio terminal para imprimir uma estrutura nesse formato.\n"
   ]
  },
  {
   "cell_type": "code",
   "execution_count": 1,
   "metadata": {},
   "outputs": [],
   "source": [
    "from tree import Tree\n",
    "from instruction_selector import InstructionSelector\n",
    "from utils import inputs"
   ]
  },
  {
   "cell_type": "code",
   "execution_count": 2,
   "metadata": {},
   "outputs": [
    {
     "data": {
      "text/plain": [
       "['MEM(+(CONST 1,CONST 2))',\n",
       " 'MOVE(MEM(+(MEM(+(FP,CONST a)),*(TEMP i,CONST 4))),MEM(+(FP,CONST x)))']"
      ]
     },
     "execution_count": 2,
     "metadata": {},
     "output_type": "execute_result"
    }
   ],
   "source": [
    "inputs"
   ]
  },
  {
   "cell_type": "code",
   "execution_count": 3,
   "metadata": {},
   "outputs": [
    {
     "name": "stdout",
     "output_type": "stream",
     "text": [
      "    ┌───\n",
      "┌───|MEM|MOVE\n",
      "│   │   ┌───|CONST x|+\n",
      "│   └───|+|MEM\n",
      "│       └───|FP|+\n",
      "|MOVE|None\n",
      "│   ┌───\n",
      "└───|MEM|MOVE\n",
      "    │       ┌───|CONST 4|*\n",
      "    │   ┌───|*|+\n",
      "    │   │   └───|TEMP i|*\n",
      "    └───|+|MEM\n",
      "        │   ┌───\n",
      "        └───|MEM|+\n",
      "            │   ┌───|CONST a|+\n",
      "            └───|+|MEM\n",
      "                └───|FP|+\n"
     ]
    }
   ],
   "source": [
    "exp_tree = Tree.from_expression(inputs[-1])\n",
    "exp_tree.bshow()"
   ]
  },
  {
   "cell_type": "markdown",
   "metadata": {},
   "source": [
    "2. (3,5 pontos) Implemente a fase de Seleção de Instrução de um compilador considerando\n",
    "os padrões da arquitetura Jouette, conforme tabela abaixo.\n",
    "Compiladores"
   ]
  },
  {
   "cell_type": "code",
   "execution_count": 4,
   "metadata": {},
   "outputs": [
    {
     "name": "stdout",
     "output_type": "stream",
     "text": [
      "Pattern: TEMP\n",
      "=============\n",
      "|FP|+\n",
      "\n",
      "\n",
      "Pattern: TEMP\n",
      "=============\n",
      "|TEMP i|*\n",
      "\n",
      "\n",
      "Pattern: TEMP\n",
      "=============\n",
      "|FP|+\n",
      "\n",
      "\n",
      "Pattern: ADD\n",
      "============\n",
      "    ┌───|CONST 4|*\n",
      "┌───|*|+\n",
      "│   └───|TEMP i|*\n",
      "|+|MEM\n",
      "│   ┌───\n",
      "└───|MEM|+\n",
      "    │   ┌───|CONST a|+\n",
      "    └───|+|MEM\n",
      "        └───|FP|+\n",
      "\n",
      "\n",
      "Pattern: MUL\n",
      "============\n",
      "┌───|CONST 4|*\n",
      "|*|+\n",
      "└───|TEMP i|*\n",
      "\n",
      "\n",
      "Pattern: ADDI\n",
      "=============\n",
      "|CONST 4|*\n",
      "\n",
      "\n",
      "Pattern: LOAD\n",
      "=============\n",
      "┌───\n",
      "|MEM|+\n",
      "│   ┌───|CONST a|+\n",
      "└───|+|MEM\n",
      "    └───|FP|+\n",
      "\n",
      "\n",
      "Pattern: LOAD\n",
      "=============\n",
      "┌───\n",
      "|MEM|MOVE\n",
      "│   ┌───|CONST x|+\n",
      "└───|+|MEM\n",
      "    └───|FP|+\n",
      "\n",
      "\n",
      "Pattern: STORE\n",
      "==============\n",
      "    ┌───\n",
      "┌───|MEM|MOVE\n",
      "│   │   ┌───|CONST x|+\n",
      "│   └───|+|MEM\n",
      "│       └───|FP|+\n",
      "|MOVE|None\n",
      "│   ┌───\n",
      "└───|MEM|MOVE\n",
      "    │       ┌───|CONST 4|*\n",
      "    │   ┌───|*|+\n",
      "    │   │   └───|TEMP i|*\n",
      "    └───|+|MEM\n",
      "        │   ┌───\n",
      "        └───|MEM|+\n",
      "            │   ┌───|CONST a|+\n",
      "            └───|+|MEM\n",
      "                └───|FP|+\n",
      "\n",
      "\n",
      "=================================\n",
      "Custo total: 6\n",
      "=================================\n"
     ]
    }
   ],
   "source": [
    "selector = InstructionSelector(exp_tree)\n",
    "selector.apply_patterns()\n",
    "tree_with_patterns = selector.tree\n",
    "\n",
    "from utils import JOUETTE_PATTERNS\n",
    "\n",
    "patterns = tree_with_patterns.get_patterns_tiles()\n",
    "for pattern, number in sorted(patterns, key=lambda p: p[1]):\n",
    "    msg = f'Pattern: {JOUETTE_PATTERNS[number].split()[0]}'\n",
    "    print(msg, '='*len(msg), sep='\\n')\n",
    "    pattern.bshow()\n",
    "    print('\\n')\n",
    "\n",
    "cost =  tree_with_patterns.get_cost(map(lambda v: v[0], patterns))\n",
    "print('=================================')\n",
    "print(f'Custo total: {cost}')\n",
    "print('=================================')"
   ]
  },
  {
   "cell_type": "markdown",
   "metadata": {},
   "source": [
    "3. (3,5 pontos) Implemente uma função que recebe um conjunto de padrões (Questão 2) e\n",
    "exibe o código equivalente. Por exemplo:\n",
    "Compiladores"
   ]
  },
  {
   "cell_type": "code",
   "execution_count": 5,
   "metadata": {},
   "outputs": [],
   "source": [
    "from operations import get_instructions"
   ]
  },
  {
   "cell_type": "code",
   "execution_count": 6,
   "metadata": {},
   "outputs": [
    {
     "name": "stdout",
     "output_type": "stream",
     "text": [
      "1 LOAD r1 <- M[r2 + 1]\n",
      "3 STORE M[r2 + 0] <- r1\n",
      "4 ADDI r1 <- r0 + 2\n",
      "5 MUL r1 <- r2 * r1\n",
      "7 ADD r2 <- r3 + r2\n",
      "8 LOAD r2 <- M[r4 + 3]\n"
     ]
    }
   ],
   "source": [
    "for ins in get_instructions(patterns):\n",
    "    print(ins)"
   ]
  }
 ],
 "metadata": {
  "interpreter": {
   "hash": "ce7df4d0c970e459c864c92d05c0afce5441e7b0743a59c0dec53e6ce47a6a2b"
  },
  "kernelspec": {
   "display_name": "Python 3.10.2 ('bdsocial')",
   "language": "python",
   "name": "python3"
  },
  "language_info": {
   "codemirror_mode": {
    "name": "ipython",
    "version": 3
   },
   "file_extension": ".py",
   "mimetype": "text/x-python",
   "name": "python",
   "nbconvert_exporter": "python",
   "pygments_lexer": "ipython3",
   "version": "3.10.2"
  },
  "orig_nbformat": 4
 },
 "nbformat": 4,
 "nbformat_minor": 2
}
