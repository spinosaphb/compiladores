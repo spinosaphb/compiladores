{
 "cells": [
  {
   "cell_type": "code",
   "execution_count": 1,
   "metadata": {},
   "outputs": [],
   "source": [
    "from lang import Language"
   ]
  },
  {
   "cell_type": "code",
   "execution_count": 67,
   "metadata": {},
   "outputs": [],
   "source": [
    "class Language2(Language):\n",
    "    \n",
    "    def get_dot_productions(self):\n",
    "        self.productions_with_dot = {\n",
    "            rule: [(prod, 0) for prod in production]\n",
    "            for rule, production in self.productions.items()\n",
    "        }\n",
    "        \n",
    "    def clousure(self, rule):\n",
    "        list_clousures = []\n",
    "        for productions in self.productions_with_dot[rule]:\n",
    "            production = productions[0]\n",
    "            idx_dot = productions[1]\n",
    "            list_clousures.append(production)\n",
    "            print(production, idx_dot)\n",
    "            if production[idx_dot] in self.no_terminals:\n",
    "                list_clousures += self.clousure(production[idx_dot])\n",
    "                \n",
    "        return list_clousures\n",
    "            "
   ]
  },
  {
   "cell_type": "code",
   "execution_count": 68,
   "metadata": {},
   "outputs": [],
   "source": [
    "lang = Language2(\n",
    "    terminals=['id','(', ']', ')', ','],\n",
    "    no_terminals=['B', 'P', 'E'],\n",
    "    accept_state = '$',\n",
    "    S = [['B', '$']],\n",
    "\tB = [['id','P'], ['id', '(', 'E', ']']],\n",
    "\tP = [['#'], ['(', 'E', ')']],\n",
    "    E = [['B'], ['B', ',', 'E']]\n",
    ")"
   ]
  },
  {
   "cell_type": "code",
   "execution_count": 69,
   "metadata": {},
   "outputs": [],
   "source": [
    "lang.get_dot_productions()"
   ]
  },
  {
   "cell_type": "code",
   "execution_count": 70,
   "metadata": {},
   "outputs": [
    {
     "name": "stdout",
     "output_type": "stream",
     "text": [
      "['B', '$'] 0\n",
      "['id', 'P'] 0\n",
      "['id', '(', 'E', ']'] 0\n"
     ]
    }
   ],
   "source": [
    "clousures_list = lang.clousure('S')"
   ]
  },
  {
   "cell_type": "code",
   "execution_count": 71,
   "metadata": {},
   "outputs": [
    {
     "data": {
      "text/plain": [
       "[['B', '$'], ['id', 'P'], ['id', '(', 'E', ']']]"
      ]
     },
     "execution_count": 71,
     "metadata": {},
     "output_type": "execute_result"
    }
   ],
   "source": [
    "clousures_list"
   ]
  },
  {
   "cell_type": "code",
   "execution_count": 10,
   "metadata": {},
   "outputs": [
    {
     "data": {
      "text/plain": [
       "{'S': [['B', '$']],\n",
       " 'B': [['id', 'P'], ['id', '(', 'E', ']']],\n",
       " 'P': [['#'], ['(', 'E', ')']],\n",
       " 'E': [['B'], ['B', ',', 'E']]}"
      ]
     },
     "execution_count": 10,
     "metadata": {},
     "output_type": "execute_result"
    }
   ],
   "source": [
    "lang.productions"
   ]
  }
 ],
 "metadata": {
  "interpreter": {
   "hash": "e7370f93d1d0cde622a1f8e1c04877d8463912d04d973331ad4851f04de6915a"
  },
  "kernelspec": {
   "display_name": "Python 3.10.4 64-bit",
   "language": "python",
   "name": "python3"
  },
  "language_info": {
   "codemirror_mode": {
    "name": "ipython",
    "version": 3
   },
   "file_extension": ".py",
   "mimetype": "text/x-python",
   "name": "python",
   "nbconvert_exporter": "python",
   "pygments_lexer": "ipython3",
   "version": "3.10.4"
  },
  "orig_nbformat": 4
 },
 "nbformat": 4,
 "nbformat_minor": 2
}
