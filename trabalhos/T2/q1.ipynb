{
 "cells": [
  {
   "cell_type": "markdown",
   "metadata": {},
   "source": [
    "## <center> $$\\text{Trabalho II}$$\n",
    "- Dada a gramática LR(1) da Figura 1. Você deve Implementar:\n",
    "    - (3,5 pontos) Um algoritmo que calcula os conjuntos FISRT e FOLLOW.\n",
    "    - (3,5 pontos) Um algoritmo que constrói o Autômato LR(1).\n",
    "    - (3,0 pontos) Um algoritmo para o reconhecimento sintático. Isto é, dada uma palavra w, o seu analisador deve ser capaz de dizer se w obedece ou não as regras da gramática."
   ]
  },
  {
   "cell_type": "code",
   "execution_count": 1,
   "metadata": {},
   "outputs": [],
   "source": [
    "from typing import List"
   ]
  },
  {
   "cell_type": "code",
   "execution_count": 2,
   "metadata": {},
   "outputs": [],
   "source": [
    "A =[1,2,3, 4] \n",
    "B = [4]"
   ]
  },
  {
   "cell_type": "code",
   "execution_count": 3,
   "metadata": {},
   "outputs": [
    {
     "data": {
      "text/plain": [
       "[1, 2, 3]"
      ]
     },
     "execution_count": 3,
     "metadata": {},
     "output_type": "execute_result"
    }
   ],
   "source": [
    "list(set(A) -set(B))"
   ]
  },
  {
   "cell_type": "code",
   "execution_count": 4,
   "metadata": {},
   "outputs": [],
   "source": [
    "class Object():\n",
    "    \"\"\"\n",
    "    Objeto genérico\n",
    "    \"\"\"\n",
    "    def __init__(self, **kwargs):\n",
    "        for key, value in kwargs.items():\n",
    "            self.key = value"
   ]
  },
  {
   "cell_type": "code",
   "execution_count": 47,
   "metadata": {},
   "outputs": [],
   "source": [
    "class Language:\n",
    "    \"\"\"\n",
    "    Classe para representar uma linguagem\n",
    "    \"\"\"\n",
    "    def __init__(self, terminals, no_terminals, void_symbol='#', **rules: dict):\n",
    "        for word, rules in rules.items():\n",
    "            setattr(self, word, rules)\n",
    "        self.terminals = terminals\n",
    "        self.no_terminals = no_terminals\n",
    "        self.void = void_symbol \n",
    "\n",
    "    def first(self, X) -> list:\n",
    "        first_X = []\n",
    "        if X in self.terminals:\n",
    "            return [X]\n",
    "        if self.void in getattr(self, X):\n",
    "            first_X.append(self.void)\n",
    "        print(f'rules: {getattr(self, X)}')\n",
    "        for rule in getattr(self, X):\n",
    "            print(f'({X}) rule: {rule}')\n",
    "            first_Y = self.first(rule[0]) \n",
    "            print(f'first({rule[0]}) : {first_Y}')\n",
    "            first_X += first_Y\n",
    "            if self.void in first_Y:\n",
    "                first_X += list(\n",
    "                    (set(first_Y) - set(self.void)).union(set(self.first(rule[1])))\n",
    "                )\n",
    "            i = 0\n",
    "            while i < len(rule):\n",
    "                if self.void not in self.first(rule[i]):\n",
    "                    return first_X\n",
    "            print(first_X)\n",
    "            first_X += [self.void]\n",
    "        print(f'-----{first_X}--------')"
   ]
  },
  {
   "cell_type": "code",
   "execution_count": 48,
   "metadata": {},
   "outputs": [],
   "source": [
    "lang = Language(\n",
    "    terminals=['(',')', 'id', '+', '*'],\n",
    "    no_terminals=['E','S', 'T', 'K', 'F'],\n",
    "    E = ['TS'],\n",
    "    S = ['+T S', '#'],\n",
    "    T = ['F K'],\n",
    "    K = ['*F K', '#'],\n",
    "    F = ['(E)', 'id']\n",
    ")"
   ]
  },
  {
   "cell_type": "code",
   "execution_count": 49,
   "metadata": {},
   "outputs": [
    {
     "name": "stdout",
     "output_type": "stream",
     "text": [
      "rules: ['TS']\n",
      "(E) rule: TS\n",
      "rules: ['F K']\n",
      "(T) rule: F K\n",
      "rules: ['(E)', 'id']\n",
      "(F) rule: (E)\n",
      "first(() : ['(']\n",
      "first(F) : ['(']\n",
      "rules: ['(E)', 'id']\n",
      "(F) rule: (E)\n",
      "first(() : ['(']\n",
      "first(T) : ['(']\n",
      "rules: ['F K']\n",
      "(T) rule: F K\n",
      "rules: ['(E)', 'id']\n",
      "(F) rule: (E)\n",
      "first(() : ['(']\n",
      "first(F) : ['(']\n",
      "rules: ['(E)', 'id']\n",
      "(F) rule: (E)\n",
      "first(() : ['(']\n"
     ]
    },
    {
     "data": {
      "text/plain": [
       "['(']"
      ]
     },
     "execution_count": 49,
     "metadata": {},
     "output_type": "execute_result"
    }
   ],
   "source": [
    "lang.first('E')"
   ]
  },
  {
   "cell_type": "code",
   "execution_count": 92,
   "metadata": {},
   "outputs": [
    {
     "data": {
      "text/plain": [
       "'ε'"
      ]
     },
     "execution_count": 92,
     "metadata": {},
     "output_type": "execute_result"
    }
   ],
   "source": [
    "lang.void"
   ]
  },
  {
   "cell_type": "code",
   "execution_count": null,
   "metadata": {},
   "outputs": [],
   "source": []
  }
 ],
 "metadata": {
  "interpreter": {
   "hash": "b7fcfd98d477d1a81aa948468b49dd0d0e69a48d47139f3658ca48102a3768dc"
  },
  "kernelspec": {
   "display_name": "Python 3.9.5 ('study')",
   "language": "python",
   "name": "python3"
  },
  "language_info": {
   "codemirror_mode": {
    "name": "ipython",
    "version": 3
   },
   "file_extension": ".py",
   "mimetype": "text/x-python",
   "name": "python",
   "nbconvert_exporter": "python",
   "pygments_lexer": "ipython3",
   "version": "3.9.5"
  },
  "orig_nbformat": 4
 },
 "nbformat": 4,
 "nbformat_minor": 2
}
