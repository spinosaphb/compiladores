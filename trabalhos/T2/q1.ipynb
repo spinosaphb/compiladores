{
 "cells": [
  {
   "cell_type": "markdown",
   "metadata": {},
   "source": [
    "## <center> $$\\text{Trabalho II}$$\n",
    "- Dada a gramática LR(1) da Figura 1. Você deve Implementar:\n",
    "    - (3,5 pontos) Um algoritmo que calcula os conjuntos FISRT e FOLLOW.\n",
    "    - (3,5 pontos) Um algoritmo que constrói o Autômato LR(1).\n",
    "    - (3,0 pontos) Um algoritmo para o reconhecimento sintático. Isto é, dada uma palavra w, o seu analisador deve ser capaz de dizer se w obedece ou não as regras da gramática."
   ]
  },
  {
   "cell_type": "code",
   "execution_count": 97,
   "metadata": {},
   "outputs": [],
   "source": [
    "from typing import List\n",
    "import copy"
   ]
  },
  {
   "cell_type": "code",
   "execution_count": 98,
   "metadata": {},
   "outputs": [],
   "source": [
    "A =[1,2,3, 4] \n",
    "B = [4]"
   ]
  },
  {
   "cell_type": "code",
   "execution_count": 99,
   "metadata": {},
   "outputs": [
    {
     "data": {
      "text/plain": [
       "[1, 2, 3]"
      ]
     },
     "execution_count": 99,
     "metadata": {},
     "output_type": "execute_result"
    }
   ],
   "source": [
    "list(set(A) -set(B))"
   ]
  },
  {
   "cell_type": "code",
   "execution_count": 100,
   "metadata": {},
   "outputs": [],
   "source": [
    "a = set([1,2,3])"
   ]
  },
  {
   "cell_type": "code",
   "execution_count": 135,
   "metadata": {},
   "outputs": [],
   "source": [
    "class Language:\n",
    "    \"\"\"\n",
    "    Classe para representar uma linguagem\n",
    "    \"\"\"\n",
    "    def __init__(self, terminals, no_terminals, void_symbol='#', **rules: dict):\n",
    "        self.productions = {}\n",
    "        for word, rules in rules.items():\n",
    "            self.productions[word] = rules\n",
    "            setattr(self, word, rules)\n",
    "        \n",
    "        self.terminals = terminals\n",
    "        self.no_terminals = no_terminals\n",
    "        self.void = void_symbol \n",
    "\n",
    "        self._first_all, self._follow_all = None, None\n",
    "\n",
    "\n",
    "    def __repr__(self) -> str:\n",
    "        return self.productions.__str__()\n",
    "\n",
    "\n",
    "    def _remove_left_single_recursion(self, word, inplace=False):\n",
    "        new_lang = copy.deepcopy(self)\n",
    "    \n",
    "        WORD_LINE = f'{word}\\''\n",
    "\n",
    "        productions = getattr(new_lang, word)\n",
    "        new_word_productions = []\n",
    "        word_line_productions = []\n",
    "        for prod in productions:\n",
    "            if prod[0] == word:\n",
    "                word_line_productions.append(prod[1:]+[WORD_LINE])\n",
    "            else:\n",
    "                new_word_productions.append(prod+[WORD_LINE])\n",
    "        word_line_productions.append([self.void])\n",
    "\n",
    "        new_lang.productions[word] = new_word_productions\n",
    "        new_lang.productions[WORD_LINE] = word_line_productions\n",
    "\n",
    "        setattr(new_lang, word, new_word_productions)\n",
    "        setattr(new_lang, WORD_LINE, word_line_productions)\n",
    "\n",
    "        if not inplace:\n",
    "            return new_lang\n",
    "        \n",
    "        self.productions = new_lang.productions\n",
    "        for word, productions in new_lang.productions.items():\n",
    "            setattr(self, word, productions)\n",
    "    \n",
    "\n",
    "    def remove_left_recursion(self, word = None, inplace=False):\n",
    "        if word is not None:\n",
    "            return self._remove_left_single_recursion(word, inplace)\n",
    "        \n",
    "        new_lang = copy.deepcopy(self)\n",
    "\n",
    "        for word_ in new_lang.productions.keys():\n",
    "            if self.isrecursive(word_):\n",
    "                new_lang._remove_left_single_recursion(word_, True)\n",
    "        \n",
    "        if not inplace:\n",
    "            return new_lang\n",
    "        \n",
    "        self.productions = new_lang.productions\n",
    "        for word, productions in new_lang.productions.items():\n",
    "            setattr(self, word, productions)\n",
    "        return self\n",
    "    \n",
    "\n",
    "    def _check_recursion(self, word, first_word):\n",
    "        if first_word not in self.productions:\n",
    "            return False\n",
    "        if first_word == word:\n",
    "            return True\n",
    "        for prod in self.productions[first_word]:\n",
    "            if prod[0] == first_word:\n",
    "                return False\n",
    "            if prod[0] in self.productions:\n",
    "                return self._check_recursion(word, prod[0])\n",
    "        return False\n",
    "\n",
    "\n",
    "    def isrecursive(self, word: str) -> bool:\n",
    "        return True in [\n",
    "            self._check_recursion(word, prod[0])\n",
    "            for prod in self.productions[word]]\n",
    "\n",
    "\n",
    "    def first(self, X):\n",
    "        \"\"\"\n",
    "        Calculate the first of term X\n",
    "        \"\"\"\n",
    "        first_ = []\n",
    "        if X in self.terminals:\n",
    "            return [X]\n",
    "        for production in self.productions[X]:\n",
    "            if production[0] not in self.productions:\n",
    "                first_.append(production[0])\n",
    "            else:\n",
    "                first_ += self.first(production[0])\n",
    "        return list(set(first_))  \n",
    "            \n",
    "    \n",
    "    def first_all(self):\n",
    "        if self._first_all is None:\n",
    "            self._first_all = {\n",
    "                word: self.first(word)\n",
    "                for word in self.productions.keys()\n",
    "            }\n",
    "        return self._first_all.copy()\n",
    "\n",
    "\n",
    "    def follow(self, X):\n",
    "        \"\"\"\n",
    "        Calculate the follow of term X\n",
    "        \"\"\"\n",
    "        if self._first_all is None:\n",
    "            self.first_all()\n",
    "        \n",
    "        follow_ = []\n",
    "        for rule in self.productions:\n",
    "            for production in self.productions[rule]:\n",
    "                if X not in production:\n",
    "                    continue\n",
    "                last_term = production[-1]\n",
    "                follow_ += [self.void] if production.index(X)+1 == len(production) \\\n",
    "                        else self._first_all[last_term] if last_term in self._first_all \\\n",
    "                        else [last_term]\n",
    "    \n",
    "                if rule != X and self.void in follow_:\n",
    "                    follow_ += self.follow(rule)\n",
    "\n",
    "        return list(set(follow_)) \n",
    "\n",
    "\n",
    "    def follow_all(self):\n",
    "        if self._follow_all is None:\n",
    "            self._follow_all = {\n",
    "                word: self.follow(word)\n",
    "                for word in self.productions.keys()\n",
    "            }\n",
    "        return self._follow_all.copy() "
   ]
  },
  {
   "cell_type": "code",
   "execution_count": 136,
   "metadata": {},
   "outputs": [
    {
     "data": {
      "text/plain": [
       "2"
      ]
     },
     "execution_count": 136,
     "metadata": {},
     "output_type": "execute_result"
    }
   ],
   "source": [
    "[1,2,3].index(3)"
   ]
  },
  {
   "cell_type": "code",
   "execution_count": 137,
   "metadata": {},
   "outputs": [],
   "source": [
    "lang = Language(\n",
    "    terminals=['+','*', 'id', '(', ')'],\n",
    "    no_terminals=['E','T', 'F'],\n",
    "    E = [['E','+','T'],['T']],\n",
    "\tT = [['T','*','F'],['F']],\n",
    "\tF = [['(', 'E', ')'], ['id']]\n",
    ")"
   ]
  },
  {
   "cell_type": "code",
   "execution_count": 138,
   "metadata": {},
   "outputs": [
    {
     "data": {
      "text/plain": [
       "{'E': [['E', '+', 'T'], ['T']],\n",
       " 'T': [['T', '*', 'F'], ['F']],\n",
       " 'F': [['(', 'E', ')'], ['id']]}"
      ]
     },
     "execution_count": 138,
     "metadata": {},
     "output_type": "execute_result"
    }
   ],
   "source": [
    "lang.productions"
   ]
  },
  {
   "cell_type": "code",
   "execution_count": 139,
   "metadata": {},
   "outputs": [
    {
     "data": {
      "text/plain": [
       "{'E': [['T', \"E'\"]], 'T': [['F', \"T'\"]], 'F': [['(', 'E', ')'], ['id']], \"E'\": [['+', 'T', \"E'\"], ['#']], \"T'\": [['*', 'F', \"T'\"], ['#']]}"
      ]
     },
     "execution_count": 139,
     "metadata": {},
     "output_type": "execute_result"
    }
   ],
   "source": [
    "lang.remove_left_recursion(inplace=True)"
   ]
  },
  {
   "cell_type": "code",
   "execution_count": 140,
   "metadata": {},
   "outputs": [
    {
     "data": {
      "text/plain": [
       "{'E': [['T', \"E'\"]],\n",
       " 'T': [['F', \"T'\"]],\n",
       " 'F': [['(', 'E', ')'], ['id']],\n",
       " \"E'\": [['+', 'T', \"E'\"], ['#']],\n",
       " \"T'\": [['*', 'F', \"T'\"], ['#']]}"
      ]
     },
     "execution_count": 140,
     "metadata": {},
     "output_type": "execute_result"
    }
   ],
   "source": [
    "lang.productions"
   ]
  },
  {
   "cell_type": "code",
   "execution_count": 141,
   "metadata": {},
   "outputs": [
    {
     "data": {
      "text/plain": [
       "['id', '(']"
      ]
     },
     "execution_count": 141,
     "metadata": {},
     "output_type": "execute_result"
    }
   ],
   "source": [
    "lang.first('E')"
   ]
  },
  {
   "cell_type": "code",
   "execution_count": 142,
   "metadata": {},
   "outputs": [
    {
     "data": {
      "text/plain": [
       "{'E': ['id', '('],\n",
       " 'T': ['(', 'id'],\n",
       " 'F': ['id', '('],\n",
       " \"E'\": ['+', '#'],\n",
       " \"T'\": ['*', '#']}"
      ]
     },
     "execution_count": 142,
     "metadata": {},
     "output_type": "execute_result"
    }
   ],
   "source": [
    "lang.first_all()"
   ]
  },
  {
   "cell_type": "code",
   "execution_count": 143,
   "metadata": {},
   "outputs": [
    {
     "data": {
      "text/plain": [
       "[')']"
      ]
     },
     "execution_count": 143,
     "metadata": {},
     "output_type": "execute_result"
    }
   ],
   "source": [
    "lang.follow('E')"
   ]
  },
  {
   "cell_type": "code",
   "execution_count": 144,
   "metadata": {},
   "outputs": [
    {
     "data": {
      "text/plain": [
       "{'E': [')'],\n",
       " 'T': ['+', '#', ')'],\n",
       " 'F': ['*', '#', '+', ')'],\n",
       " \"E'\": ['#', ')'],\n",
       " \"T'\": ['+', '#', ')']}"
      ]
     },
     "execution_count": 144,
     "metadata": {},
     "output_type": "execute_result"
    }
   ],
   "source": [
    "lang.follow_all()"
   ]
  }
 ],
 "metadata": {
  "interpreter": {
   "hash": "b7fcfd98d477d1a81aa948468b49dd0d0e69a48d47139f3658ca48102a3768dc"
  },
  "kernelspec": {
   "display_name": "Python 3.9.5 ('study')",
   "language": "python",
   "name": "python3"
  },
  "language_info": {
   "codemirror_mode": {
    "name": "ipython",
    "version": 3
   },
   "file_extension": ".py",
   "mimetype": "text/x-python",
   "name": "python",
   "nbconvert_exporter": "python",
   "pygments_lexer": "ipython3",
   "version": "3.9.5"
  },
  "orig_nbformat": 4
 },
 "nbformat": 4,
 "nbformat_minor": 2
}
